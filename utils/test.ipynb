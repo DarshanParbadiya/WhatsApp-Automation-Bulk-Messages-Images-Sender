{
 "cells": [
  {
   "cell_type": "code",
   "execution_count": null,
   "metadata": {},
   "outputs": [],
   "source": [
    "from selenium import webdriver\n",
    "from selenium.webdriver.support.ui import WebDriverWait\n",
    "from selenium.webdriver.support import expected_conditions as EC\n",
    "from selenium.webdriver.common.by import By\n",
    "from webdriver_manager.chrome import ChromeDriverManager\n",
    "import pandas as pd\n",
    "import urllib"
   ]
  },
  {
   "cell_type": "code",
   "execution_count": null,
   "metadata": {},
   "outputs": [],
   "source": [
    "class Whatsapp():\n",
    "    def open_whatsapp(self):\n",
    "        self.driver = webdriver.Chrome()\n",
    "        self.driver.get('https://web.whatsapp.com')\n",
    "        self.is_driver_available = True\n",
    "\n",
    "    def open_contact(self,number,message):\n",
    "        url = 'https://web.whatsapp.com/send?phone=' + str(number) + '&text=' + urllib.parse.quote(message)\n",
    "        self.driver.get(url)\n",
    "        print(f'Opening {url}')\n",
    "\n",
    "        \n",
    "    def load_csv_to_dataframe(self,file_name):\n",
    "        # Load the CSV file into a DataFrame\n",
    "        df = pd.read_csv(file_name)\n",
    "        return df\n",
    "    "
   ]
  },
  {
   "cell_type": "code",
   "execution_count": null,
   "metadata": {},
   "outputs": [],
   "source": [
    "instance = Whatsapp()\n",
    "instance.open_whatsapp()"
   ]
  },
  {
   "cell_type": "code",
   "execution_count": null,
   "metadata": {},
   "outputs": [],
   "source": [
    "contacts = instance.load_csv_to_dataframe('contacts.csv')"
   ]
  },
  {
   "cell_type": "code",
   "execution_count": null,
   "metadata": {},
   "outputs": [],
   "source": [
    "invalid = pd.DataFrame(columns=['number'])"
   ]
  },
  {
   "cell_type": "code",
   "execution_count": null,
   "metadata": {},
   "outputs": [],
   "source": [
    "add = pd.DataFrame(['398473894'],columns=['number'])"
   ]
  },
  {
   "cell_type": "code",
   "execution_count": null,
   "metadata": {},
   "outputs": [],
   "source": [
    "df = pd.concat([add,add,add],ignore_index = True)"
   ]
  },
  {
   "cell_type": "code",
   "execution_count": null,
   "metadata": {},
   "outputs": [],
   "source": [
    "def add_details_to_data_frame(df,data):\n",
    "    # columns = ['number', 'reason']\n",
    "    # data = [123, \"Sample reason\"]\n",
    "    print(\"adding the row to the invalid Number dataframe\")\n",
    "    new_row = pd.DataFrame([data], columns=['number'])\n",
    "    df = pd.concat([df, new_row], ignore_index=True)\n",
    "    return df"
   ]
  },
  {
   "cell_type": "code",
   "execution_count": null,
   "metadata": {},
   "outputs": [],
   "source": [
    "df = add_details_to_data_frame(df,'random data')"
   ]
  },
  {
   "cell_type": "code",
   "execution_count": null,
   "metadata": {},
   "outputs": [],
   "source": [
    "df.head()"
   ]
  },
  {
   "cell_type": "code",
   "execution_count": null,
   "metadata": {},
   "outputs": [],
   "source": [
    "contacts['Message'][0]"
   ]
  },
  {
   "cell_type": "code",
   "execution_count": null,
   "metadata": {},
   "outputs": [],
   "source": [
    "def aria_text_locator(driver,wait_time,label):\n",
    "    try:\n",
    "        button = WebDriverWait(driver, wait_time).until(EC.presence_of_element_located((By.XPATH, f'//button[@aria-label=\"{label}\"]')))\n",
    "    except:\n",
    "        print(\"button from aria text not found\")\n",
    "        return False\n",
    "    else:\n",
    "        return button\n"
   ]
  },
  {
   "cell_type": "code",
   "execution_count": null,
   "metadata": {},
   "outputs": [],
   "source": [
    "def x_path_locator(driver,wait_time,path):\n",
    "\n",
    "    try:\n",
    "        button = WebDriverWait(driver, wait_time).until(EC.presence_of_element_located((By.XPATH, attachment_button_val)))\n",
    "    except:\n",
    "        print(\" button not found\")\n",
    "        return False\n",
    "    else:\n",
    "        print(f'{path} is found on the web page')\n",
    "        return button\n"
   ]
  },
  {
   "cell_type": "code",
   "execution_count": null,
   "metadata": {},
   "outputs": [],
   "source": [
    "def does_page_contains_text(driver,wait_time,label):\n",
    "    try:\n",
    "        element = WebDriverWait(driver, wait_time).until(\n",
    "            EC.presence_of_element_located((By.XPATH, f\"//*[contains(text(), '{label}')]\"))\n",
    "        )\n",
    "        \n",
    "    except:\n",
    "        print(\"number is not found as invalid\")\n",
    "    \n",
    "    else:\n",
    "        if element:\n",
    "            print(\"The text 'Phone number shared via url is invalid.' is present on the page.\")"
   ]
  },
  {
   "cell_type": "code",
   "execution_count": null,
   "metadata": {},
   "outputs": [],
   "source": [
    "def find_element_by_attributes(driver, wait_time,accept_value):\n",
    "    try:\n",
    "        # \"image/*,video/mp4,video/3gpp,video/quicktime\"\n",
    "        # or *\n",
    "        element = driver.find_element(By.XPATH, f\"//input[@accept='{accept_value}']\")\n",
    "        # driver.execute_script(\"arguments[0].style.display = 'block';\", element)\n",
    "        # element = WebDriverWait(driver, wait_time).until(\n",
    "        #     EC.presence_of_element_located((By.XPATH, f\"//input[@accept='{accept_value}']\"))\n",
    "        # )\n",
    "    except Exception as e:\n",
    "        print(f\"Element not found: {e}\")\n",
    "        return None\n",
    "    else:\n",
    "        return element"
   ]
  },
  {
   "cell_type": "code",
   "execution_count": null,
   "metadata": {},
   "outputs": [],
   "source": [
    "for index, row in contacts.iterrows():\n",
    "    number = row['Contact No']\n",
    "    message = row['Message']\n",
    "    print(f\"Row {index}: Contact No = {row['Contact No']}, Message = {row['Message']}\")        \n",
    "    instance.open_contact(number,message)\n",
    "    button = aria_text_locator(instance.driver,10,\"Send\")\n",
    "    # button.click()\n",
    "    # checking for invalid if send button is not found\n",
    "    invalid_text = \"Phone number shared via url is invalid.\"\n",
    "    invalid_modal_okay_button_class =\"x889kno x1a8lsjc xbbxn1n xxbr6pl x1n2onr6 x1rg5ohu xk50ysn x1f6kntn xyesn5m x1z11no5 xjy5m1g x1mnwbp6 x4pb5v6 x178xt8z xm81vs4 xso031l xy80clv x13fuv20 xu3j5b3 x1q0q8m5 x26u7qi x1v8p93f xogb00i x16stqrj x1ftr3km x1hl8ikr xfagghw x9dyr19 x9lcvmn xbtce8p x14v0smp xo8ufso xcjl5na x1k3x3db xuxw1ft xv52azi\"\n",
    "    does_page_contains_text(instance.driver,10,invalid_text)\n",
    "    attachment_button_val = \"//span[@data-icon='plus']\"\n",
    "    attachment_button = x_path_locator(instance.driver,10,attachment_button_val)\n",
    "    attachment_button.click()\n",
    "    image_box_val = \"//input[@accept='image/*,video/mp4,video/3gpp,video/quicktime']\"\n",
    "    image_attachment_accept_value = \"image/*,video/mp4,video/3gpp,video/quicktime\"\n",
    "    file_attachment_accept_value = \"*\"\n",
    "    button = find_element_by_attributes(instance.driver,10,file_attachment_accept_value)\n",
    "    button.send_keys(r\"C:\\Users\\darsh\\Desktop\\nisarg chori\\test.zip\")\n",
    "    send_button_value = f\"//*[@data-icon='send']\"\n",
    "    send_button = x_path_locator(instance.driver,10,send_button_value)\n",
    "    break"
   ]
  },
  {
   "cell_type": "code",
   "execution_count": null,
   "metadata": {},
   "outputs": [],
   "source": [
    "def image_locator():\n",
    "    invalid_text = \"Phone number shared via url is invalid.\"\n",
    "    invalid_modal_okay_button_class =\"x889kno x1a8lsjc xbbxn1n xxbr6pl x1n2onr6 x1rg5ohu xk50ysn x1f6kntn xyesn5m x1z11no5 xjy5m1g x1mnwbp6 x4pb5v6 x178xt8z xm81vs4 xso031l xy80clv x13fuv20 xu3j5b3 x1q0q8m5 x26u7qi x1v8p93f xogb00i x16stqrj x1ftr3km x1hl8ikr xfagghw x9dyr19 x9lcvmn xbtce8p x14v0smp xo8ufso xcjl5na x1k3x3db xuxw1ft xv52azi\"\n",
    "    invalid_modal_okay_button_value = f\"//*[@class='send']\"\n",
    "    is_invalid = does_page_contains_text(instance.driver,10,invalid_text)\n",
    "    # Locate the button using a subset of classes\n",
    "    # button = instance.driver.find_element(By.CSS_SELECTOR, \".x889kno.x1a8lsjc.xbbxn1n\")\n",
    "    # Alternatively, if you want to use all classes:\n",
    "    # button = instance.driver.find_element(By.CSS_SELECTOR, \".x889kno.x1a8lsjc.xbbxn1n.xxbr6pl.x1n2onr6.x1rg5ohu.xk50ysn.x1f6kntn.xyesn5m.x1z11no5.xjy5m1g.x1mnwbp6.x4pb5v6.x178xt8z.xm81vs4.xso031l.xy80clv.x13fuv20.xu3j5b3.x1q0q8m5.x26u7qi.x1v8p93f.xogb00i.x16stqrj.x1ftr3km.x1hl8ikr.xfagghw.x9dyr19.x9lcvmn.xbtce8p.x14v0smp.xo8ufso.xcjl5na.x1k3x3db.xuxw1ft.xv52azi\")\n",
    "    button = instance.driver.find_element(By.XPATH, f\"//*[@class='{invalid_modal_okay_button_class}']\")\n",
    "    # Click the button if it's found\n",
    "    button.click()\n",
    "    if is_invalid:\n",
    "        x_path_locator(instance.driver,10,)\n",
    "    "
   ]
  },
  {
   "cell_type": "code",
   "execution_count": null,
   "metadata": {},
   "outputs": [],
   "source": [
    "image_locator()"
   ]
  },
  {
   "cell_type": "code",
   "execution_count": null,
   "metadata": {},
   "outputs": [],
   "source": [
    "import configparser\n",
    "\n",
    "config = configparser.ConfigParser()\n",
    "config.read('config.ini')\n",
    "\n",
    "# # Read values\n",
    "# db_host = config['Database']['host']\n",
    "# api_endpoint = config['API']['endpoint']\n",
    "\n",
    "# # Print values\n",
    "# print(f\"Database Host: {db_host}\")\n",
    "# print(f\"API Endpoint: {api_endpoint}\")\n",
    "\n",
    "# # Update values\n",
    "# config['Database']['host'] = 'newhost.example.com'\n",
    "# config['API']['timeout'] = '60'\n",
    "\n",
    "# Write changes back to file\n",
    "with open('config.ini', 'w') as configfile:\n",
    "    config.write(configfile)\n"
   ]
  },
  {
   "cell_type": "code",
   "execution_count": null,
   "metadata": {},
   "outputs": [],
   "source": [
    "attachment_button_val = config['Buttons']['attachment_button_val']\n"
   ]
  },
  {
   "cell_type": "code",
   "execution_count": null,
   "metadata": {},
   "outputs": [],
   "source": [
    "# Access values from each section\n",
    "attachment_button_val = config['Buttons']['attachment_button_val']\n",
    "send_button_value = config['Buttons']['send_button_value']\n",
    "send_message_button_text = config['Buttons']['send_message_button_text']\n",
    "\n",
    "image_attachment_accept_value = config['Attachments']['image_attachment_accept_value']\n",
    "file_attachment_accept_value = config['Attachments']['file_attachment_accept_value']\n",
    "\n",
    "invalid_modal_text = config['Modals']['invalid_modal_text']\n",
    "invalid_modal_okay_button_class = config['Modals']['invalid_modal_okay_button_class']"
   ]
  },
  {
   "cell_type": "code",
   "execution_count": null,
   "metadata": {},
   "outputs": [],
   "source": [
    "print(attachment_button_val)\n",
    "print(send_button_value)\n",
    "print(send_message_button_text)\n",
    "print(image_attachment_accept_value)\n",
    "print(file_attachment_accept_value)\n",
    "print(invalid_modal_text)\n",
    "print(invalid_modal_okay_button_class)"
   ]
  },
  {
   "cell_type": "code",
   "execution_count": null,
   "metadata": {},
   "outputs": [],
   "source": [
    "val = \"//span[@data-icon='plus']\""
   ]
  },
  {
   "cell_type": "code",
   "execution_count": null,
   "metadata": {},
   "outputs": [],
   "source": [
    "val[0]"
   ]
  },
  {
   "cell_type": "code",
   "execution_count": null,
   "metadata": {},
   "outputs": [],
   "source": [
    "from selenium import webdriver\n",
    "from selenium.webdriver.chrome.service import Service\n",
    "from selenium.webdriver.chrome.options import Options\n",
    "\n",
    "# Set up Chrome options to connect to the debugging port\n",
    "chrome_options = Options()\n",
    "chrome_options.debugger_address = \"localhost:9222\"\n",
    "\n",
    "# Initialize the driver without starting a new browser instance\n",
    "driver = webdriver.Chrome(service=Service(), options=chrome_options)\n",
    "\n",
    "# Now, `driver` will control the existing browser instance\n",
    "driver.get(\"https://www.google.com\")  # Example usage\n",
    "print(driver.title)  # Output the title of the page to verify the connection\n"
   ]
  },
  {
   "cell_type": "code",
   "execution_count": null,
   "metadata": {},
   "outputs": [],
   "source": []
  }
 ],
 "metadata": {
  "kernelspec": {
   "display_name": "Python 3",
   "language": "python",
   "name": "python3"
  },
  "language_info": {
   "codemirror_mode": {
    "name": "ipython",
    "version": 3
   },
   "file_extension": ".py",
   "mimetype": "text/x-python",
   "name": "python",
   "nbconvert_exporter": "python",
   "pygments_lexer": "ipython3",
   "version": "3.9.0"
  }
 },
 "nbformat": 4,
 "nbformat_minor": 2
}
